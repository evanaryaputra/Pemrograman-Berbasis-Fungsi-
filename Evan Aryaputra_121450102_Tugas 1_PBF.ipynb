{
 "cells": [
  {
   "cell_type": "markdown",
   "id": "08866948-60cf-4138-8767-9defac60a065",
   "metadata": {
    "jp-MarkdownHeadingCollapsed": true,
    "tags": []
   },
   "source": [
    "## Nomor 1"
   ]
  },
  {
   "cell_type": "code",
   "execution_count": 1,
   "id": "d9141017-23f6-4eae-95d0-4d9b1992512a",
   "metadata": {},
   "outputs": [],
   "source": [
    "import pandas as pd"
   ]
  },
  {
   "cell_type": "code",
   "execution_count": 4,
   "id": "057f66a8-751e-4b5f-8cfd-44015724d493",
   "metadata": {},
   "outputs": [
    {
     "name": "stdout",
     "output_type": "stream",
     "text": [
      "                                     kelebihan  \\\n",
      "0  penulisan program sederhana dan terstruktur   \n",
      "1                            mudah diterlusuri   \n",
      "2        menggunakan memori yang lebih sedikit   \n",
      "\n",
      "                                 kekurangan  \n",
      "0                               kurang aman  \n",
      "1  proses yang rumit untuk menambahkan data  \n",
      "2   fungsi yang tersedia sulit untuk diubah  \n"
     ]
    }
   ],
   "source": [
    "tabel1= {'kelebihan' :['penulisan program sederhana dan terstruktur', 'mudah diterlusuri', 'menggunakan memori yang lebih sedikit'],\n",
    "         'kekurangan' : ['kurang aman', 'proses yang rumit untuk menambahkan data', 'fungsi yang tersedia sulit untuk diubah']\n",
    "        }\n",
    "df = pd.DataFrame (tabel1)\n",
    "print (df)"
   ]
  },
  {
   "cell_type": "markdown",
   "id": "3abf994a-844a-4e27-a08c-243d48b47150",
   "metadata": {
    "jp-MarkdownHeadingCollapsed": true,
    "tags": []
   },
   "source": [
    "## Nomor 2"
   ]
  },
  {
   "cell_type": "code",
   "execution_count": 5,
   "id": "268f2def-92ff-46b7-9a71-54c6ec132adf",
   "metadata": {},
   "outputs": [
    {
     "name": "stdout",
     "output_type": "stream",
     "text": [
      "                          kelebihan                           kekurangan\n",
      "0                              Aman                 sulit untuk dipahami\n",
      "1                       reusability           memakan memori yang banyak\n",
      "2  cocok untuk projek yang kompleks  proses pembuatan program lebih lama\n"
     ]
    }
   ],
   "source": [
    "tabel2= {'kelebihan' :['Aman','reusability', 'cocok untuk projek yang kompleks'],\n",
    "         'kekurangan' : ['sulit untuk dipahami', 'memakan memori yang banyak', 'proses pembuatan program lebih lama']\n",
    "        }\n",
    "df = pd.DataFrame (tabel2)\n",
    "print (df)"
   ]
  },
  {
   "cell_type": "markdown",
   "id": "d3390742-f3a0-4525-b515-95e267761047",
   "metadata": {
    "jp-MarkdownHeadingCollapsed": true,
    "tags": []
   },
   "source": [
    "## Nomor 3"
   ]
  },
  {
   "cell_type": "code",
   "execution_count": null,
   "id": "0bf80366-033c-4df0-8f0e-da860ccf2bf4",
   "metadata": {},
   "outputs": [],
   "source": []
  },
  {
   "cell_type": "markdown",
   "id": "92e68719-bb4a-4a1c-839a-cd29633e4f75",
   "metadata": {
    "jp-MarkdownHeadingCollapsed": true,
    "tags": []
   },
   "source": [
    "## Nomor 4\n"
   ]
  },
  {
   "cell_type": "markdown",
   "id": "207cb214-2fb5-491d-ace9-ec566ae87806",
   "metadata": {},
   "source": [
    "Yang dimaksud dari pure functional programming adalah salah satu dari 2 paradigma pemrograman selain oop"
   ]
  },
  {
   "cell_type": "markdown",
   "id": "820b95fa-54c8-4dda-80e6-704a39f4e38e",
   "metadata": {
    "jp-MarkdownHeadingCollapsed": true,
    "tags": []
   },
   "source": [
    "## Nomor 5\n"
   ]
  },
  {
   "cell_type": "markdown",
   "id": "0a9e860f-9a3a-43f6-81c6-a2ebf2c237f3",
   "metadata": {},
   "source": [
    "Lisp, Haskell, javasript"
   ]
  },
  {
   "cell_type": "markdown",
   "id": "8f948c3d-1335-4c56-9e30-4a5c1424d83f",
   "metadata": {},
   "source": [
    "## Nomor 6"
   ]
  },
  {
   "cell_type": "code",
   "execution_count": 12,
   "id": "4077a5ce-7b95-483f-ae25-1338a11c775e",
   "metadata": {},
   "outputs": [],
   "source": [
    "def encrypt_password(pas):\n",
    "    if len(pas) > 100:\n",
    "        return \"Error: Kata terlalu panjang\"\n",
    "\n",
    "    encrypted_password = \"\"\n",
    "    for char in pas:\n",
    "        ascii_value = ord(char)\n",
    "        first_value = round((ascii_value / 26)) + 80\n",
    "        second_value = (ascii_value % 26) + 80\n",
    "        third_value = '+' if first_value > second_value else '-'\n",
    "        encrypted_password += chr(first_value) + chr(second_value) + third_value\n",
    "\n",
    "    return encrypted_password\n"
   ]
  },
  {
   "cell_type": "code",
   "execution_count": 13,
   "id": "1a959623-c47d-4a4c-a89f-70a74dee842d",
   "metadata": {},
   "outputs": [
    {
     "name": "stdout",
     "output_type": "stream",
     "text": [
      "TX-Tc-T[-T\\-TQ+TT-T]-TT-T]-T[-TX-Td-Th-Ri-Rh-Rg-\n"
     ]
    }
   ],
   "source": [
    "print(encrypt_password(\"pastiluluspbf321\"))\n"
   ]
  }
 ],
 "metadata": {
  "kernelspec": {
   "display_name": "Python 3 (ipykernel)",
   "language": "python",
   "name": "python3"
  },
  "language_info": {
   "codemirror_mode": {
    "name": "ipython",
    "version": 3
   },
   "file_extension": ".py",
   "mimetype": "text/x-python",
   "name": "python",
   "nbconvert_exporter": "python",
   "pygments_lexer": "ipython3",
   "version": "3.10.7"
  }
 },
 "nbformat": 4,
 "nbformat_minor": 5
}
